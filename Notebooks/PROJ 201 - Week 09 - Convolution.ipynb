{
 "cells":[
  {
   "cell_type":"markdown",
   "source":[
    "# Arya's convolution"
   ],
   "attachments":{
    
   },
   "metadata":{
    "datalore":{
     "node_id":"Arya's convolution",
     "type":"MD",
     "hide_input_from_viewers":false,
     "hide_output_from_viewers":false,
     "sheet_delimiter":true
    }
   }
  },
  {
   "cell_type":"markdown",
   "source":[
    "# Applying Convolutions for Data Clarification\n",
    "## Week 09\n",
    "The aim of this notebook is to emphasize on the desired features of a given image by applying convolutions. This procedure generates a more applicable dataset, which can be utilized for object detection. By having shapes that are more geometrically detectable, other algorithms can be used to count the number of stars."
   ],
   "attachments":{
    
   },
   "metadata":{
    "datalore":{
     "node_id":"9eAOhDGxlWgZY9CLWNIxe1",
     "type":"MD",
     "hide_input_from_viewers":true,
     "hide_output_from_viewers":false,
     "report_properties":{
      "y":0
     }
    }
   }
  },
  {
   "cell_type":"markdown",
   "source":[
    "## Brief Discription\n",
    "### In Mathematics\n",
    "In basic terms, convolution is a procedure that shows how the shape of one function changes after being combined with another function. The convolution of $f$ and $g$ can be written as:\n",
    "$$\\Large \\left( f * g \\right) (t) := \\int_{- \\infty}^{\\infty} f (\\tau) g(t - \\tau) \\, d \\tau$$\n",
    "\n",
    "---\n",
    "\n",
    "### In Computer Science\n",
    "In Deep Learning, a well-known class of artificial neural networks for analyzing images is called *Convolutional Neural Networks*.\n",
    "\n",
    "![](https:\/\/i0.wp.com\/developersbreach.com\/wp-content\/uploads\/2020\/08\/cnn_banner.png?fit=1400%2C658&ssl=1)\n",
    "\n",
    "> source: [CNN - Developer's Breach](https:\/\/developersbreach.com\/convolution-neural-network-deep-learning\/)"
   ],
   "attachments":{
    
   },
   "metadata":{
    "datalore":{
     "node_id":"GNHgQfnpdZ8FYZlHr3ySoJ",
     "type":"MD",
     "hide_input_from_viewers":true,
     "hide_output_from_viewers":false,
     "report_properties":{
      "y":6
     }
    }
   }
  },
  {
   "cell_type":"markdown",
   "source":[
    "# Libraries\n",
    "The libraries used are listed in the cell below."
   ],
   "attachments":{
    
   },
   "metadata":{
    "datalore":{
     "node_id":"D3vA0BtqJIspkd21GZMKoS",
     "type":"MD",
     "hide_input_from_viewers":true,
     "hide_output_from_viewers":false,
     "report_properties":{
      "y":32
     }
    }
   }
  },
  {
   "cell_type":"code",
   "source":[
    "import numpy as np\n",
    "import cv2\n",
    "from scipy import ndimage"
   ],
   "execution_count":145,
   "outputs":[
    
   ],
   "metadata":{
    "datalore":{
     "node_id":"hwkMc6b1RGL9Wl4dbGbXXH",
     "type":"CODE",
     "hide_input_from_viewers":false,
     "hide_output_from_viewers":true,
     "report_properties":{
      "y":36
     }
    }
   }
  },
  {
   "cell_type":"markdown",
   "source":[
    "## Convolution\n",
    "At first, three different methods were tested from the `ndimage.convolve()` method from the [SciPy Library](https:\/\/scipy.org\/). However, due to poor results, the decision was made to implement the algorithm from scratch. The vertical edges were then detected in a more precise way, which helped with the quality of the final results."
   ],
   "attachments":{
    
   },
   "metadata":{
    "datalore":{
     "node_id":"zyg7Ln2YFbKzxiVgB7vzzg",
     "type":"MD",
     "hide_input_from_viewers":true,
     "hide_output_from_viewers":false,
     "report_properties":{
      "y":40
     }
    }
   }
  },
  {
   "cell_type":"code",
   "source":[
    "def conv(image, kernel, kernel_size):\n",
    "    if (kernel_size % 2 == 1):\n",
    "        image_height, image_width = image.shape\n",
    "        output_height = image_height - kernel_size + 1;\n",
    "        output_width = image_width - kernel_size + 1;\n",
    "\n",
    "        output = np.zeros((output_height, output_width))\n",
    "\n",
    "        image_margin = (kernel_size -1 ) \/\/ 2\n",
    "        for i in range(image_margin, image_height - image_margin):\n",
    "            for j in range(image_margin, image_height - image_margin):\n",
    "                image_segment =image[\n",
    "                    i - image_margin : i + image_margin + 1,\n",
    "                    j - image_margin : j + image_margin + 1\n",
    "                ]\n",
    "                multiplied = np.multiply(image_segment,kernel)\n",
    "                cell_value = np.sum(multiplied)\n",
    "                output[i - image_margin, j - image_margin] = cell_value\n",
    "    else:\n",
    "        print(\"Error: The kernel should be a odd x odd matrix.\")\n",
    "    return output"
   ],
   "execution_count":146,
   "outputs":[
    
   ],
   "metadata":{
    "datalore":{
     "node_id":"IXzT036i2SnjJ9FxC6ZG3w",
     "type":"CODE",
     "hide_input_from_viewers":false,
     "hide_output_from_viewers":true,
     "report_properties":{
      "y":45
     }
    }
   }
  },
  {
   "cell_type":"markdown",
   "source":[
    "## Source Images\n",
    "The image used below, `image_path`, had been obtained previously using the [Astropy library](https:\/\/www.astropy.org\/). "
   ],
   "attachments":{
    
   },
   "metadata":{
    "datalore":{
     "node_id":"K1faHmkivM9RZOD4kf7lPn",
     "type":"MD",
     "hide_input_from_viewers":true,
     "hide_output_from_viewers":false,
     "report_properties":{
      "y":57
     }
    }
   }
  },
  {
   "cell_type":"code",
   "source":[
    "image_path = \"star.png\"\n",
    "im = cv2.imread(image_path)\n",
    "grayim = cv2.cvtColor(im, cv2.COLOR_BGR2GRAY)\n",
    "\n",
    "cv2.imwrite('ConvResults\/im.png', im)\n",
    "cv2.imwrite('ConvResults\/grayscale_im.png', grayim)"
   ],
   "execution_count":null,
   "outputs":[
    
   ],
   "metadata":{
    "datalore":{
     "node_id":"MTcWfKItJrz05VXdIQBzC1",
     "type":"CODE",
     "hide_input_from_viewers":false,
     "hide_output_from_viewers":true,
     "report_properties":{
      "y":61
     }
    }
   }
  },
  {
   "cell_type":"markdown",
   "source":[
    "## Choosing Kernels\n",
    "The kernels below, represented by `k = np.array([...])`, are used for the convolution process. By testing and tweaking different values for their indices, one can come up with a better kernel."
   ],
   "attachments":{
    
   },
   "metadata":{
    "datalore":{
     "node_id":"EuuQtWvP0FmlY9sztraV1V",
     "type":"MD",
     "hide_input_from_viewers":true,
     "hide_output_from_viewers":false,
     "report_properties":{
      "y":66
     }
    }
   }
  },
  {
   "cell_type":"markdown",
   "source":[
    "### Experimental Kernels"
   ],
   "attachments":{
    
   },
   "metadata":{
    "datalore":{
     "node_id":"TcXxe2JQP180ZiE2vo1l71",
     "type":"MD",
     "hide_input_from_viewers":true,
     "hide_output_from_viewers":false,
     "report_properties":{
      "y":70
     }
    }
   }
  },
  {
   "cell_type":"code",
   "source":[
    "exp_ker1 = np.array([\n",
    "    [-1., -1., -1.],\n",
    "    [-1., 8., -1.],\n",
    "    [-1., -1., -1.]])\n",
    "\n",
    "exp_ker2 = np.array([\n",
    "    [-1., 0., 1.],\n",
    "    [-1., 0., 1.],\n",
    "    [-1., 0., 1.]])\n",
    "\n",
    "exp_ker3 = np.array([\n",
    "       [0.1,0.1,0.1],\n",
    "       [0.1,0.1,0.1],\n",
    "       [0.1,0.1,0.1]])\n",
    "exp_ker4 = np.array([\n",
    "        [ 0.,  0.,  0.,  0.,  0.],\n",
    "        [ 0.,  0.,  1.,  0.,  0.],\n",
    "        [ 0.,  1., -4.,  1.,  0.],\n",
    "        [ 0.,  0.,  1.,  0.,  0.],\n",
    "        [ 0.,  0.,  0.,  0.,  0.]])"
   ],
   "execution_count":204,
   "outputs":[
    
   ],
   "metadata":{
    "datalore":{
     "node_id":"OpZ0Lu1ea5sNCrwCLR1Jxr",
     "type":"CODE",
     "hide_input_from_viewers":false,
     "hide_output_from_viewers":true,
     "report_properties":{
      "y":73
     }
    }
   }
  },
  {
   "cell_type":"markdown",
   "source":[
    "### The Chosen Kernel"
   ],
   "attachments":{
    
   },
   "metadata":{
    "datalore":{
     "node_id":"3h9Kg2334K1Zf3K94IZs0U",
     "type":"MD",
     "hide_input_from_viewers":true,
     "hide_output_from_viewers":false,
     "report_properties":{
      "y":85
     }
    }
   }
  },
  {
   "cell_type":"code",
   "source":[
    "k = np.array([\n",
    "        [ -1., -1., -1., -1., -1.],\n",
    "        [ -1.,  1.,  1.,  1., -1.],\n",
    "        [ -1.,  1.,  4.,  1., -1.],\n",
    "        [ -1.,  1.,  1.,  1., -1.],\n",
    "        [ -1., -1., -1., -1., -1.]])\n",
    "\n",
    "k3 = np.dstack([k, k, k])\n",
    "kernel_size = k.shape[0]"
   ],
   "execution_count":205,
   "outputs":[
    
   ],
   "metadata":{
    "datalore":{
     "node_id":"19H4AjBRcq4jKpnkeinAzo",
     "type":"CODE",
     "hide_input_from_viewers":false,
     "hide_output_from_viewers":true,
     "report_properties":{
      "y":88
     }
    }
   }
  },
  {
   "cell_type":"markdown",
   "source":[
    "## Generating the Final Results\n",
    "After applying the algorithm, the convoluted images get stored in a separate folder, which is called *ConvResults*."
   ],
   "attachments":{
    
   },
   "metadata":{
    "datalore":{
     "node_id":"8o2V0wZdqFVXo1T5fvAqtG",
     "type":"MD",
     "hide_input_from_viewers":true,
     "hide_output_from_viewers":false,
     "report_properties":{
      "y":95
     }
    }
   }
  },
  {
   "cell_type":"code",
   "source":[
    "# convolce each rgb channel of image an then merge them...\n",
    "# ... by stacking them on top of each other\n",
    "output_r = ndimage.convolve(im[:,:,0], k, mode='constant', cval=0.0)\n",
    "output_g = ndimage.convolve(im[:,:,1], k, mode='constant', cval=0.0)\n",
    "output_b = ndimage.convolve(im[:,:,2], k, mode='constant', cval=0.0)\n",
    "output1 = np.dstack([output_r, output_g, output_b])\n",
    "cv2.imwrite('ConvResults\/output1 - stacked.png', output1)\n",
    "\n",
    "# convolve the colored image with a 3 dimensional kernel (3dim)\n",
    "output2 = ndimage.convolve(im, k3, mode='constant', cval=0.0)\n",
    "cv2.imwrite('ConvResults\/output2 - 3dim.png', output2)\n",
    "\n",
    "# convolve the grayscale image \n",
    "output3 = ndimage.convolve(grayim, k, mode='constant', cval=0.0)\n",
    "cv2.imwrite('ConvResults\/output3 - grayscale.png', output3)\n",
    "\n",
    "# convolve the grayscale image with my own function \n",
    "output4 = conv(grayim, k, kernel_size)\n",
    "output4_range = np.max(output4) - np.min(output4)\n",
    "output4 = (output4 - np.min(output4)) * (255 \/ output4_range)\n",
    "cv2.imwrite('ConvResults\/output4 - func.png', output4)"
   ],
   "execution_count":147,
   "outputs":[
    {
     "data":{
      "text\/plain":[
       "True"
      ]
     },
     "metadata":{
      
     },
     "output_type":"display_data"
    }
   ],
   "metadata":{
    "datalore":{
     "node_id":"sQNwmpnG3SwEQkGlYt5EtB",
     "type":"CODE",
     "hide_input_from_viewers":false,
     "hide_output_from_viewers":true,
     "report_properties":{
      "y":99
     }
    }
   }
  },
  {
   "cell_type":"markdown",
   "source":[
    "# For Displaying the Final Images\n",
    "The first image is the original one, and the second one is after 4 layers of convolution."
   ],
   "attachments":{
    
   },
   "metadata":{
    "datalore":{
     "node_id":"07UAejdAcDj9CaYx2SArCB",
     "type":"MD",
     "hide_input_from_viewers":true,
     "hide_output_from_viewers":false,
     "report_properties":{
      "y":111
     }
    }
   }
  },
  {
   "cell_type":"code",
   "source":[
    "from IPython.display import Image\n",
    "import matplotlib.pyplot as plt\n",
    "%matplotlib inline"
   ],
   "execution_count":185,
   "outputs":[
    
   ],
   "metadata":{
    "datalore":{
     "node_id":"WV6Ki8L7qrR4uxdUOQdmOj",
     "type":"CODE",
     "hide_input_from_viewers":false,
     "hide_output_from_viewers":true,
     "report_properties":{
      "y":115
     }
    }
   }
  },
  {
   "cell_type":"markdown",
   "source":[
    "### Original Image"
   ],
   "attachments":{
    
   },
   "metadata":{
    "datalore":{
     "node_id":"4v5Ap9pUYUg0Be2vz1tAOA",
     "type":"MD",
     "hide_input_from_viewers":true,
     "hide_output_from_viewers":false,
     "report_properties":{
      "y":119
     }
    }
   }
  },
  {
   "cell_type":"code",
   "source":[
    "Image(filename='\/\/data\/notebook_files\/ConvResults\/im.png', width=256, height=256)"
   ],
   "execution_count":196,
   "outputs":[
    {
     "data":{
      "image\/png":"[encoded data removed]"
     },
     "metadata":{
      "image\/png":{
       "width":256,
       "height":256
      }
     },
     "output_type":"display_data"
    }
   ],
   "metadata":{
    "datalore":{
     "node_id":"NSfLx9YUAltoADbnl6oVS0",
     "type":"CODE",
     "hide_input_from_viewers":false,
     "hide_output_from_viewers":false,
     "report_properties":{
      "y":122
     }
    }
   }
  },
  {
   "cell_type":"markdown",
   "source":[
    "### Convoluted Image"
   ],
   "attachments":{
    
   },
   "metadata":{
    "datalore":{
     "node_id":"NCxFNPg9a73BsIi5oPeSyd",
     "type":"MD",
     "hide_input_from_viewers":true,
     "hide_output_from_viewers":false,
     "report_properties":{
      "y":133
     }
    }
   }
  },
  {
   "cell_type":"code",
   "source":[
    "Image(filename='\/data\/notebook_files\/ConvResults\/output4 - func.png', width=256, height=256)"
   ],
   "execution_count":197,
   "outputs":[
    {
     "data":{
      "image\/png":"[encoded data removed]"
     },
     "metadata":{
      "image\/png":{
       "width":256,
       "height":256
      }
     },
     "output_type":"display_data"
    }
   ],
   "metadata":{
    "datalore":{
     "node_id":"Qr92qzzcTCMve81fHlmDdG",
     "type":"CODE",
     "hide_input_from_viewers":false,
     "hide_output_from_viewers":false,
     "report_properties":{
      "y":136
     }
    }
   }
  },
  {
   "cell_type":"markdown",
   "source":[
    "## For Comparison"
   ],
   "attachments":{
    
   },
   "metadata":{
    "datalore":{
     "node_id":"Dp89EWOEtZ96Whu7wWVoZS",
     "type":"MD",
     "hide_input_from_viewers":true,
     "hide_output_from_viewers":false,
     "report_properties":{
      "y":147
     }
    }
   }
  },
  {
   "cell_type":"code",
   "source":[
    "before_img = plt.imread(\"\/data\/notebook_files\/ConvResults\/im.png\")\n",
    "img2 = plt.imread(\"\/data\/notebook_files\/ConvResults\/output2 - 3dim.png\")\n",
    "img3 = plt.imread(\"\/data\/notebook_files\/ConvResults\/output3 - grayscale.png\")\n",
    "after_img = plt.imread(\"\/data\/notebook_files\/ConvResults\/output4 - func.png\")\n",
    "\n",
    "f, axarr = plt.subplots(2,2)\n",
    "axarr[0,0].imshow(before_img)\n",
    "axarr[1,0].imshow(img3)\n",
    "axarr[0,1].imshow(img2)\n",
    "axarr[1,1].imshow(after_img)"
   ],
   "execution_count":199,
   "outputs":[
    {
     "data":{
      "text\/plain":[
       "<matplotlib.image.AxesImage at 0x7f76c9202af0>"
      ]
     },
     "metadata":{
      
     },
     "output_type":"display_data"
    },
    {
     "data":{
      "image\/png":"[encoded data removed]"
     },
     "metadata":{
      "image\/png":{
       
      }
     },
     "output_type":"display_data"
    }
   ],
   "metadata":{
    "datalore":{
     "node_id":"zEWiwMX6XNooCJ3cH6DI9r",
     "type":"CODE",
     "hide_input_from_viewers":false,
     "hide_output_from_viewers":false,
     "report_properties":{
      "y":150
     }
    }
   }
  }
 ],
 "metadata":{
  "kernelspec":{
   "display_name":"Python",
   "language":"python",
   "name":"python"
  },
  "datalore":{
   "version":1,
   "computation_mode":"JUPYTER",
   "package_manager":"pip",
   "base_environment":"default",
   "packages":[
    {
     "name":"astropy",
     "version":"5.2.dev0",
     "source":"PIP"
    },
    {
     "name":"spectral-cube",
     "version":"0.6.0",
     "source":"PIP"
    }
   ]
  }
 },
 "nbformat":4,
 "nbformat_minor":4
}